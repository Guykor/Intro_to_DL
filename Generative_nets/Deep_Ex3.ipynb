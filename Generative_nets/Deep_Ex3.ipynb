{
  "nbformat": 4,
  "nbformat_minor": 0,
  "metadata": {
    "accelerator": "GPU",
    "colab": {
      "name": "Deep_Ex3.ipynb",
      "provenance": [],
      "collapsed_sections": [
        "vSPf4xBJ9VXJ",
        "jHLYr7f2GHsN",
        "2cRQuIefHRDw",
        "m1mlZsVkIfVK",
        "7vJeSIrjaU9C"
      ]
    },
    "kernelspec": {
      "display_name": "Python 3",
      "name": "python3"
    }
  },
  "cells": [
    {
      "cell_type": "code",
      "metadata": {
        "id": "6Bj9A4w8VaQ7"
      },
      "source": [
        "from matplotlib import pyplot as plt\n",
        "import tensorflow as tf\n",
        "\n",
        "import tensorflow.keras as keras\n",
        "import tensorflow.keras.layers as layers\n",
        "\n",
        "from tensorflow.keras.datasets import mnist \n",
        "from tensorflow.keras.models import Sequential\n",
        "from tensorflow.keras import losses\n",
        "\n",
        "import seaborn as sns\n",
        "import matplotlib.pyplot as plt\n",
        "import matplotlib as mpl\n",
        "# mpl.rcParams['figure.figsize'] = (12, 6)\n",
        "colors = plt.rcParams['axes.prop_cycle'].by_key()['color']\n",
        "from tqdm.notebook import tqdm\n",
        "import numpy as np\n",
        "import os"
      ],
      "execution_count": null,
      "outputs": []
    },
    {
      "cell_type": "code",
      "metadata": {
        "id": "4cCHQ7lBXrj9"
      },
      "source": [
        "latent_dim = 64\n",
        "noise_sigma = 0.35\n",
        "train_AE = True\n",
        "sml_train_size = 50"
      ],
      "execution_count": null,
      "outputs": []
    },
    {
      "cell_type": "code",
      "metadata": {
        "colab": {
          "base_uri": "https://localhost:8080/"
        },
        "id": "PxaSP4J1XhAp",
        "outputId": "49b87cf6-5343-47e9-aded-3615d876bc21"
      },
      "source": [
        "# load train and test images, and pad & reshape them to (-1,32,32,1)\n",
        "(x_train, y_train), (x_test, y_test) = mnist.load_data()\n",
        "x_train = np.reshape(x_train, (len(x_train), 28, 28, 1)).astype('float32') / 255.0\n",
        "x_test = np.reshape(x_test, (len(x_test), 28, 28, 1)).astype('float32') / 255.0\n",
        "x_train = np.pad(x_train, ((0,0),(2, 2), (2, 2),(0,0)))\n",
        "x_test = np.pad(x_test, ((0,0),(2, 2), (2, 2),(0,0)))\n",
        "print(x_train.shape)\n",
        "print(x_test.shape)\n",
        "\n",
        "y_train = keras.utils.to_categorical(y_train, num_classes=10, dtype='float32')\n",
        "y_test = keras.utils.to_categorical(y_test, num_classes=10, dtype='float32')"
      ],
      "execution_count": null,
      "outputs": [
        {
          "output_type": "stream",
          "text": [
            "(60000, 32, 32, 1)\n",
            "(10000, 32, 32, 1)\n"
          ],
          "name": "stdout"
        }
      ]
    },
    {
      "cell_type": "markdown",
      "metadata": {
        "id": "17EFetpYiVF-"
      },
      "source": [
        "# AE"
      ]
    },
    {
      "cell_type": "code",
      "metadata": {
        "colab": {
          "base_uri": "https://localhost:8080/",
          "height": 781
        },
        "id": "HgIqT1NPXi2U",
        "outputId": "5941ecd3-3a9a-446a-d432-8ada75094a80"
      },
      "source": [
        "encoder = Sequential()\n",
        "encoder.add(layers.Conv2D(16, (4, 4), strides=(2,2), activation='relu', padding='same', input_shape=(32,32,1)))\n",
        "encoder.add(layers.Conv2D(32, (3, 3), strides=(2,2), activation='relu', padding='same'))\n",
        "encoder.add(layers.Conv2D(64, (3, 3), strides=(2,2), activation='relu', padding='same'))\n",
        "encoder.add(layers.Conv2D(96, (3, 3), strides=(2,2), activation='relu', padding='same'))\n",
        "encoder.add(layers.Reshape((2*2*96,)))\n",
        "encoder.add(layers.Dense(latent_dim))\n",
        "\n",
        "# at this point the representation is (4, 4, 8) i.e. 128-dimensional\n",
        "decoder = Sequential()\n",
        "decoder.add(layers.Dense(2*2*96,activation='relu', input_shape=(latent_dim,)))\n",
        "decoder.add(layers.Reshape((2,2,96)))\n",
        "decoder.add(layers.Conv2DTranspose(64, (3, 3), strides=(2,2), activation='relu', padding='same'))\n",
        "decoder.add(layers.Conv2DTranspose(32, (3, 3), strides=(2,2), activation='relu', padding='same'))\n",
        "decoder.add(layers.Conv2DTranspose(16, (4, 4), strides=(2,2), activation='relu', padding='same'))\n",
        "decoder.add(layers.Conv2DTranspose(1, (4, 4), strides=(2,2), activation='sigmoid', padding='same'))\n",
        "\n",
        "autoencoder = keras.Model(encoder.inputs, decoder(encoder.outputs))\n",
        "autoencoder.compile(optimizer='adam', loss='binary_crossentropy')\n",
        "\n",
        "checkpoint_path = \"model_save/cp.ckpt\"\n",
        "\n",
        "if train_AE:\n",
        "\tcheckpoint_dir = os.path.dirname(checkpoint_path)\n",
        "\tcp_callback = tf.keras.callbacks.ModelCheckpoint(filepath=checkpoint_path,\n",
        "\t                                                 save_weights_only=True)\n",
        "\tautoencoder.fit(x_train + noise_sigma * np.random.randn(*x_train.shape), x_train,\n",
        "\t                epochs=15,\n",
        "\t                batch_size=128,\n",
        "\t                shuffle=True,\n",
        "\t                validation_data=(x_test, x_test),\n",
        "\t                callbacks=[cp_callback])\n",
        "else:\n",
        "\tautoencoder.load_weights(checkpoint_path)\n",
        "\n",
        "decoded_imgs = autoencoder.predict(x_test)\n",
        "latent_codes = encoder.predict(x_test)\n",
        "decoded_imgs = decoder.predict(latent_codes)\n",
        "\n",
        "n = 10\n",
        "plt.figure(figsize=(20, 4))\n",
        "for i in range(1, n + 1):\n",
        "    # Display original\n",
        "    ax = plt.subplot(2, n, i)\n",
        "    plt.imshow(x_test[i].reshape(32, 32))\n",
        "    plt.gray()\n",
        "    ax.get_xaxis().set_visible(False)\n",
        "    ax.get_yaxis().set_visible(False)\n",
        "\n",
        "    # Display reconstruction\n",
        "    ax = plt.subplot(2, n, i + n)\n",
        "    plt.imshow(decoded_imgs[i].reshape(32, 32))\n",
        "    plt.gray()\n",
        "    ax.get_xaxis().set_visible(False)\n",
        "    ax.get_yaxis().set_visible(False)\n",
        "plt.show()"
      ],
      "execution_count": null,
      "outputs": [
        {
          "output_type": "stream",
          "text": [
            "Epoch 1/15\n",
            "469/469 [==============================] - 6s 6ms/step - loss: 0.3028 - val_loss: 0.1127\n",
            "Epoch 2/15\n",
            "469/469 [==============================] - 2s 5ms/step - loss: 0.1050 - val_loss: 0.0805\n",
            "Epoch 3/15\n",
            "469/469 [==============================] - 2s 5ms/step - loss: 0.0840 - val_loss: 0.0737\n",
            "Epoch 4/15\n",
            "469/469 [==============================] - 2s 5ms/step - loss: 0.0778 - val_loss: 0.0687\n",
            "Epoch 5/15\n",
            "469/469 [==============================] - 2s 5ms/step - loss: 0.0743 - val_loss: 0.0666\n",
            "Epoch 6/15\n",
            "469/469 [==============================] - 2s 5ms/step - loss: 0.0724 - val_loss: 0.0650\n",
            "Epoch 7/15\n",
            "469/469 [==============================] - 2s 5ms/step - loss: 0.0707 - val_loss: 0.0640\n",
            "Epoch 8/15\n",
            "469/469 [==============================] - 2s 5ms/step - loss: 0.0696 - val_loss: 0.0633\n",
            "Epoch 9/15\n",
            "469/469 [==============================] - 2s 5ms/step - loss: 0.0686 - val_loss: 0.0620\n",
            "Epoch 10/15\n",
            "469/469 [==============================] - 2s 5ms/step - loss: 0.0678 - val_loss: 0.0620\n",
            "Epoch 11/15\n",
            "469/469 [==============================] - 2s 5ms/step - loss: 0.0673 - val_loss: 0.0609\n",
            "Epoch 12/15\n",
            "469/469 [==============================] - 2s 5ms/step - loss: 0.0667 - val_loss: 0.0607\n",
            "Epoch 13/15\n",
            "469/469 [==============================] - 2s 5ms/step - loss: 0.0663 - val_loss: 0.0603\n",
            "Epoch 14/15\n",
            "469/469 [==============================] - 2s 5ms/step - loss: 0.0659 - val_loss: 0.0603\n",
            "Epoch 15/15\n",
            "469/469 [==============================] - 2s 5ms/step - loss: 0.0656 - val_loss: 0.0596\n"
          ],
          "name": "stdout"
        },
        {
          "output_type": "display_data",
          "data": {
            "image/png": "[encoded data removed]",
            "text/plain": [
              "<Figure size 1440x288 with 20 Axes>"
            ]
          },
          "metadata": {
            "tags": []
          }
        }
      ]
    },
    {
      "cell_type": "code",
      "metadata": {
        "id": "J3fvy22mUkdp"
      },
      "source": [
        "def plot_metrics(history, metrics=[\"loss\", \"accuracy\"]):\n",
        "    for n, metric in enumerate(metrics):\n",
        "        name = metric.replace(\"_\",\" \").capitalize()\n",
        "        \n",
        "        plt.subplot(1,2,n+1)\n",
        "        plt.plot(history.epoch, history.history[metric], label='Train')\n",
        "        plt.plot(history.epoch, history.history['val_'+metric], linestyle=\"--\", label='Val')\n",
        "        plt.xlabel('Epoch')\n",
        "        plt.ylabel(name)\n",
        "        if metric == 'loss':\n",
        "            plt.ylim([0, plt.ylim()[1]])\n",
        "        else:\n",
        "            plt.ylim([0,1])\n",
        "\n",
        "        plt.legend()\n",
        "    return plt.show()"
      ],
      "execution_count": null,
      "outputs": []
    },
    {
      "cell_type": "code",
      "metadata": {
        "id": "pcPhoncZXocc"
      },
      "source": [
        "def train_sml(MLP_classifier):\n",
        "    \n",
        "    with tf.device('/device:GPU:0'):\n",
        "        # Pre trained\n",
        "        train_codes = encoder.predict(x_train[:sml_train_size])\n",
        "        test_codes = encoder.predict(x_test)\n",
        "\n",
        "        classifier.compile(loss='categorical_crossentropy',optimizer='adam', metrics=['accuracy'])\n",
        "\n",
        "        history_transfer = classifier.fit(train_codes, y_train[:sml_train_size],\n",
        "                          epochs=200,\n",
        "                          batch_size=16,\n",
        "                          shuffle=True,\n",
        "                          validation_data=(test_codes, y_test))\n",
        "        print(\"\\n\"*5)\n",
        "        print(\"-\"*20)\n",
        "        print(\"Pre-Trained evaluation:\")\n",
        "        plot_metrics(history_transfer)\n",
        "        print(classifier.evaluate(test_codes, y_test))\n",
        "        \n",
        "        print(\"-\"*20)\n",
        "        print(\"\\n\"*5)\n",
        "\n",
        "\n",
        "        # Regular\n",
        "        full_cls_enc = keras.models.clone_model(encoder) # creating new layers (and weights)\n",
        "        full_cls_cls = keras.models.clone_model(classifier)\n",
        "        full_cls = keras.Model(full_cls_enc.inputs,full_cls_cls(full_cls_enc.outputs))\n",
        "\n",
        "        full_cls.compile(loss='categorical_crossentropy',optimizer='adam',metrics=['accuracy'])\n",
        "\n",
        "        history_full = full_cls.fit(x_train[:sml_train_size], y_train[:sml_train_size],\n",
        "                          epochs=100,\n",
        "                          batch_size=16,\n",
        "                          shuffle=True,\n",
        "                          validation_data=(x_test, y_test))\n",
        "\n",
        "        print(\"\\n\"*5)\n",
        "        print(\"-\"*20)\n",
        "        print(\"Regular Model evaluation:\")\n",
        "        plot_metrics(history_full)\n",
        "        print(full_cls.evaluate(x_test, y_test))\n",
        "        print(\"-\"*20)\n",
        "        print(\"\\n\"*5)\n",
        "        return history_transfer, history_full"
      ],
      "execution_count": null,
      "outputs": []
    },
    {
      "cell_type": "markdown",
      "metadata": {
        "id": "vSPf4xBJ9VXJ"
      },
      "source": [
        "## Baseline MLP - FC (10, sigmoid)"
      ]
    },
    {
      "cell_type": "code",
      "metadata": {
        "id": "PHKw2DxFsGyg"
      },
      "source": [
        "classifier = Sequential()\n",
        "classifier.add(layers.Dense(10,activation='softmax', input_shape=(latent_dim,)))\n",
        "train_sml(classifier)"
      ],
      "execution_count": null,
      "outputs": []
    },
    {
      "cell_type": "markdown",
      "metadata": {
        "id": "jHLYr7f2GHsN"
      },
      "source": [
        "##results with 3 layers : layer1 = 16 + relu, layer2 = 16+relu, layer3= 10+softmax"
      ]
    },
    {
      "cell_type": "code",
      "metadata": {
        "id": "fUy4ZKArGYFK"
      },
      "source": [
        "classifier = Sequential()\n",
        "\n",
        "classifier.add(layers.Dense(32, activation='relu', input_shape=(latent_dim,)))\n",
        "classifier.add(layers.Dense(16, activation='relu'))\n",
        "classifier.add(layers.Dense(10, activation='softmax'))\n",
        "\n",
        "train_sml(classifier)"
      ],
      "execution_count": null,
      "outputs": []
    },
    {
      "cell_type": "code",
      "metadata": {
        "id": "JHfz7PBTGbnj"
      },
      "source": [
        ""
      ],
      "execution_count": null,
      "outputs": []
    },
    {
      "cell_type": "markdown",
      "metadata": {
        "id": "2cRQuIefHRDw"
      },
      "source": [
        "##results with 4 layers:\n",
        "\n",
        "1.   latent dim+relu\n",
        "2.   32+relu\n",
        "3. 16+relu\n",
        "4. 10+ softmax\n",
        "\n"
      ]
    },
    {
      "cell_type": "code",
      "metadata": {
        "id": "_rSWooe3Hkdn"
      },
      "source": [
        "classifier = Sequential()\n",
        "\n",
        "classifier.add(layers.Dense(latent_dim, activation='relu', input_shape=(latent_dim,)))\n",
        "classifier.add(layers.Dense(32, activation='relu'))\n",
        "classifier.add(layers.Dense(16, activation='relu'))\n",
        "classifier.add(layers.Dense(10, activation='softmax'))\n",
        "\n",
        "train_sml(classifier)"
      ],
      "execution_count": null,
      "outputs": []
    },
    {
      "cell_type": "markdown",
      "metadata": {
        "id": "m1mlZsVkIfVK"
      },
      "source": [
        "##results with 5 layers:\n",
        "\n",
        "1.   latent dim+relu\n",
        "2. 64+relu\n",
        "3.   32+relu\n",
        "4. 16+relu\n",
        "5. 10+ softmax\n",
        "\n"
      ]
    },
    {
      "cell_type": "code",
      "metadata": {
        "id": "mYyYHTdzJ9yV"
      },
      "source": [
        "classifier = Sequential()\n",
        "\n",
        "classifier.add(layers.Dense(100, activation='relu', input_shape=(latent_dim,)))\n",
        "classifier.add(layers.Dropout(0.5))\n",
        "classifier.add(layers.Dense(64, activation='relu'))\n",
        "classifier.add(layers.Dense(32, activation='relu'))\n",
        "classifier.add(layers.Dense(10, activation='softmax'))\n",
        "\n",
        "train_sml(classifier)"
      ],
      "execution_count": null,
      "outputs": []
    },
    {
      "cell_type": "code",
      "metadata": {
        "colab": {
          "base_uri": "https://localhost:8080/"
        },
        "id": "EvfmlENMV-v5",
        "outputId": "f99aba6c-0b25-4e99-d41e-82e634c92b9e"
      },
      "source": [
        "classifier"
      ],
      "execution_count": null,
      "outputs": [
        {
          "output_type": "execute_result",
          "data": {
            "text/plain": [
              "<tensorflow.python.keras.engine.sequential.Sequential at 0x7f77a8ebada0>"
            ]
          },
          "metadata": {
            "tags": []
          },
          "execution_count": 229
        }
      ]
    },
    {
      "cell_type": "markdown",
      "metadata": {
        "id": "3WaScW1gClfb"
      },
      "source": [
        "# GAN - generating MNIST images"
      ]
    },
    {
      "cell_type": "code",
      "metadata": {
        "id": "9LH2gygCpj4h"
      },
      "source": [
        "cross_entropy = keras.losses.BinaryCrossentropy(from_logits=True)"
      ],
      "execution_count": null,
      "outputs": []
    },
    {
      "cell_type": "code",
      "metadata": {
        "id": "N1zj_6yfAqEG"
      },
      "source": [
        "def build_discrimnator():\n",
        "    discriminator = Sequential()\n",
        "    discriminator.add(layers.Dense(256, activation='relu',input_shape=(latent_dim,)))\n",
        "    discriminator.add(layers.Dense(128, activation='relu'))\n",
        "    discriminator.add(layers.Dense(64, activation='relu'))\n",
        "    discriminator.add(layers.Dense(1))\n",
        "    return discriminator\n",
        "\n",
        "def discriminator_loss(fake_pred, real_pred):\n",
        "    loss_fake = cross_entropy(tf.zeros_like(fake_pred), fake_pred)\n",
        "    loss_real = cross_entropy(tf.ones_like(real_pred), real_pred)\n",
        "    return loss_fake + loss_real\n"
      ],
      "execution_count": null,
      "outputs": []
    },
    {
      "cell_type": "code",
      "metadata": {
        "id": "X3lAKF3TfMrN"
      },
      "source": [
        "def build_generator():\n",
        "    generator = Sequential()\n",
        "    generator.add(layers.Flatten(input_shape=(32,32,1)))\n",
        "    generator.add(layers.Dense(256, activation='relu'))\n",
        "    generator.add(layers.Dense(128, activation='relu'))\n",
        "    generator.add(layers.Dense(64, activation='relu'))\n",
        "    generator.add(layers.Dense(latent_dim))\n",
        "    return generator\n",
        "\n",
        "def generator_loss(d_g_z):\n",
        "    # D(G(z)) should be one in the generator perspective.\n",
        "    return cross_entropy(tf.ones_like(d_g_z), d_g_z)\n",
        "\n",
        "def get_noise(batch_size):\n",
        "    return np.random.randn(batch_size, 32,32,1)\n",
        "    "
      ],
      "execution_count": null,
      "outputs": []
    },
    {
      "cell_type": "code",
      "metadata": {
        "id": "iWtGrr5mbYzD"
      },
      "source": [
        "def show_generated(generator):\n",
        "    for _ in range(30):\n",
        "      z = get_noise(1)\n",
        "      image = (decoder.predict(generator(z))).reshape(32,32)\n",
        "      plt.imshow(image)\n",
        "      plt.show()"
      ],
      "execution_count": null,
      "outputs": []
    },
    {
      "cell_type": "markdown",
      "metadata": {
        "id": "HBRYCOwBVFHV"
      },
      "source": [
        "## Regular GAN - first optimize D then G"
      ]
    },
    {
      "cell_type": "code",
      "metadata": {
        "id": "nECl4mY5sJV5"
      },
      "source": [
        "gen_optimizer = keras.optimizers.Adam()\n",
        "disc_optimizer = keras.optimizers.Adam()\n",
        "\n",
        "@tf.function\n",
        "def train_step_discriminator(discriminator, generator, images_batch):\n",
        "    # training step for disc and than gen to avoid saturation\n",
        "    with tf.device('/device:GPU:0'):\n",
        "        with tf.GradientTape() as disc_tape:\n",
        "            z = get_noise(images_batch.shape[0])\n",
        "            gz = generator(z)\n",
        "            d_pred_real = discriminator(encoder(images_batch))\n",
        "            d_pred_fake = discriminator(gz)\n",
        "\n",
        "            disc_loss = discriminator_loss(d_pred_fake, d_pred_real)\n",
        "            disc_gradients = disc_tape.gradient(disc_loss, discriminator.trainable_variables)\n",
        "            disc_optimizer.apply_gradients(zip(disc_gradients, discriminator.trainable_variables))\n",
        "        \n",
        "        return disc_loss\n",
        "\n",
        "@tf.function\n",
        "def train_step_generator(discriminator, generator, images_batch):\n",
        "    with tf.device('/device:GPU:0'):\n",
        "        with tf.GradientTape() as gen_tape:\n",
        "            z = get_noise(images_batch.shape[0])\n",
        "            gz = generator(z)\n",
        "            d_pred_fake = discriminator(gz)\n",
        "\n",
        "            gen_loss = generator_loss(d_pred_fake)\n",
        "            gen_gradients = gen_tape.gradient(gen_loss, generator.trainable_variables)\n",
        "            gen_optimizer.apply_gradients(zip(gen_gradients, generator.trainable_variables))\n",
        "\n",
        "        return gen_loss"
      ],
      "execution_count": null,
      "outputs": []
    },
    {
      "cell_type": "code",
      "metadata": {
        "id": "V408UR_mwBFR"
      },
      "source": [
        "def train_gan_disc_first(batch_size, epochs):\n",
        "    train_set = tf.data.Dataset.from_tensor_slices(x_train).batch(batch_size)\n",
        "    discriminator = build_discrimnator()\n",
        "    generator = build_generator()\n",
        "    history = {\"discriminator_loss\": [], \"generator_loss\": []}\n",
        "    \n",
        "    for epoch in range(epochs):\n",
        "        print(f\"Epoch {epoch}/{epochs}: \")\n",
        "        progbar = tf.keras.utils.Progbar(len(train_set))\n",
        "        disc_loss = []\n",
        "        gen_loss = []\n",
        "        \n",
        "        for n, batch in enumerate(train_set):\n",
        "            dloss = train_step_discriminator(discriminator, generator, batch)\n",
        "            disc_loss.append(dloss)\n",
        "            progbar.update(n+1)\n",
        "        \n",
        "        for n, batch in enumerate(train_set):\n",
        "             gloss = train_step_generator(discriminator, generator, batch)\n",
        "             gen_loss.append(gloss)\n",
        "             progbar.update(n+1)\n",
        "        \n",
        "        \n",
        "        epoch_disc_loss = np.array(disc_loss).mean()\n",
        "        epoch_gen_loss = np.array(gen_loss).mean()\n",
        "        history[\"discriminator_loss\"].append(epoch_disc_loss)\n",
        "        history[\"generator_loss\"].append(epoch_gen_loss)\n",
        "        print(f\"disc_loss: {epoch_disc_loss}, gen_loss: {epoch_gen_loss}. \")\n",
        "      \n",
        "    plt.plot(np.arange(1, epochs+1), history[\"discriminator_loss\"], label=\"Discriminator_Loss\")\n",
        "    plt.plot(np.arange(1, epochs+1), history[\"generator_loss\"], label=\"Generator_Loss\")\n",
        "    plt.legend()\n",
        "    plt.show()\n",
        "    return history, generator"
      ],
      "execution_count": null,
      "outputs": []
    },
    {
      "cell_type": "code",
      "metadata": {
        "id": "K94dLFbJA5Yz"
      },
      "source": [
        "disc_first_history, disc_first_generator = train_gan_disc_first(128, 50)"
      ],
      "execution_count": null,
      "outputs": []
    },
    {
      "cell_type": "code",
      "metadata": {
        "id": "eF7i1crJA-eS"
      },
      "source": [
        "show_generated(disc_first_generator)"
      ],
      "execution_count": null,
      "outputs": []
    },
    {
      "cell_type": "markdown",
      "metadata": {
        "id": "7vJeSIrjaU9C"
      },
      "source": [
        "# GAN - avoid saturation - disc step followed by gen step"
      ]
    },
    {
      "cell_type": "code",
      "metadata": {
        "id": "-XJIeG0_WUhN"
      },
      "source": [
        "gen_optimizer = keras.optimizers.Adam()\n",
        "disc_optimizer = keras.optimizers.Adam()\n",
        "\n",
        "@tf.function\n",
        "def train_step_simoultanous(discriminator, generator, images_batch):\n",
        "    # training step for disc and than gen to avoid saturation\n",
        "    with tf.device('/device:GPU:0'):\n",
        "        with tf.GradientTape() as gen_tape, tf.GradientTape() as disc_tape:\n",
        "      \n",
        "            z = get_noise(images_batch.shape[0])\n",
        "            gz = generator(z)\n",
        "            d_pred_real = discriminator(encoder(images_batch))\n",
        "            d_pred_fake = discriminator(gz)\n",
        "            \n",
        "            disc_loss = discriminator_loss(d_pred_fake, d_pred_real)\n",
        "            disc_gradients = disc_tape.gradient(disc_loss, discriminator.trainable_variables)\n",
        "            disc_optimizer.apply_gradients(zip(disc_gradients, discriminator.trainable_variables))\n",
        "\n",
        "\n",
        "            gen_loss = generator_loss(d_pred_fake)\n",
        "            gen_gradients = gen_tape.gradient(gen_loss, generator.trainable_variables)\n",
        "            gen_optimizer.apply_gradients(zip(gen_gradients, generator.trainable_variables))\n",
        "        \n",
        "        return disc_loss, gen_loss"
      ],
      "execution_count": null,
      "outputs": []
    },
    {
      "cell_type": "code",
      "metadata": {
        "id": "WynreVpjwKX0"
      },
      "source": [
        "def train_gan_stepwise(batch_size, epochs):\n",
        "    train_set = tf.data.Dataset.from_tensor_slices(x_train).batch(batch_size)\n",
        "    discriminator = build_discrimnator()\n",
        "    generator = build_generator()\n",
        "    history = {\"discriminator_loss\": [], \"generator_loss\": []}\n",
        "    \n",
        "    for epoch in range(epochs):\n",
        "        print(f\"Epoch {epoch}/{epochs}: \")\n",
        "        progbar = tf.keras.utils.Progbar(len(train_set))\n",
        "        disc_loss = []\n",
        "        gen_loss = []\n",
        "        \n",
        "        for n, batch in enumerate(train_set):\n",
        "            progbar.update(n+1)\n",
        "            dloss, gloss = train_step_simoultanous(discriminator, generator, batch)\n",
        "            disc_loss.append(dloss)\n",
        "            gen_loss.append(gloss)\n",
        "        \n",
        "        epoch_disc_loss = np.array(disc_loss).mean()\n",
        "        epoch_gen_loss = np.array(gen_loss).mean()\n",
        "        history[\"discriminator_loss\"].append(epoch_disc_loss)\n",
        "        history[\"generator_loss\"].append(epoch_gen_loss)\n",
        "        print(f\"disc_loss: {epoch_disc_loss}, gen_loss: {epoch_gen_loss}. \")\n",
        "    \n",
        "    plt.plot(np.arange(1, epochs+1), history[\"discriminator_loss\"], label=\"Discriminator_Loss\")\n",
        "    plt.plot(np.arange(1, epochs+1), history[\"generator_loss\"], label=\"Generator_Loss\")\n",
        "    plt.legend()\n",
        "    plt.show()\n",
        "    return history, generator"
      ],
      "execution_count": null,
      "outputs": []
    },
    {
      "cell_type": "code",
      "metadata": {
        "id": "n5ahuRie4kCH"
      },
      "source": [
        "stepwise_history, stepwise_generator = train_gan_stepwise(128, 50);"
      ],
      "execution_count": null,
      "outputs": []
    },
    {
      "cell_type": "code",
      "metadata": {
        "id": "H0Hrqxy34lIx"
      },
      "source": [
        "show_generated(stepwise_generator)"
      ],
      "execution_count": null,
      "outputs": []
    },
    {
      "cell_type": "code",
      "metadata": {
        "id": "AUch8vJAYFSM"
      },
      "source": [
        "gen_optimizer = keras.optimizers.Adam()\n",
        "disc_optimizer = keras.optimizers.Adam()\n",
        "\n",
        "def train_gan_combined(batch_size, epochs):\n",
        "    train_set = tf.data.Dataset.from_tensor_slices(x_train).batch(batch_size)\n",
        "    discriminator = build_discrimnator()\n",
        "    generator = build_generator()\n",
        "    history = {\"discriminator_loss\": [], \"generator_loss\": []}\n",
        "    \n",
        "    for epoch in range(epochs):\n",
        "        print(f\"Epoch {epoch}/{epochs}: \")\n",
        "        progbar = tf.keras.utils.Progbar(len(train_set))\n",
        "        disc_loss = []\n",
        "        gen_loss = []\n",
        "        \n",
        "        if epoch < 50: # stepwise (or simultanously)\n",
        "            for n, batch in enumerate(train_set):\n",
        "              progbar.update(n+1)\n",
        "              dloss, gloss = train_step_simoultanous(discriminator, generator, batch)\n",
        "              disc_loss.append(dloss)\n",
        "              gen_loss.append(gloss)\n",
        "        \n",
        "        else: # optimize D, then optimize G\n",
        "            for n, batch in enumerate(train_set):\n",
        "                progbar.update(n+1)\n",
        "                dloss = train_step_discriminator(discriminator, generator, batch)\n",
        "                disc_loss.append(dloss)\n",
        "            \n",
        "            for n, batch in enumerate(train_set):\n",
        "                progbar.update(n+1)\n",
        "                gloss = train_step_generator(discriminator, generator, batch)\n",
        "                gen_loss.append(gloss)\n",
        "\n",
        "        epoch_disc_loss = np.array(disc_loss).mean()\n",
        "        epoch_gen_loss = np.array(gen_loss).mean()\n",
        "        history[\"discriminator_loss\"].append(epoch_disc_loss)\n",
        "        history[\"generator_loss\"].append(epoch_gen_loss)\n",
        "        print(f\"disc_loss: {epoch_disc_loss}, gen_loss: {epoch_gen_loss}. \")\n",
        "    \n",
        "    plt.plot(np.arange(1, epochs+1), history[\"discriminator_loss\"], label=\"Discriminator_Loss\")\n",
        "    plt.plot(np.arange(1, epochs+1), history[\"generator_loss\"], label=\"Generator_Loss\")\n",
        "    plt.legend()\n",
        "    plt.show()\n",
        "    return history, generator"
      ],
      "execution_count": null,
      "outputs": []
    },
    {
      "cell_type": "code",
      "metadata": {
        "id": "BKTX8FDPbMY3"
      },
      "source": [
        "combined_history, combined_generator = train_gan_combined(128, 200)"
      ],
      "execution_count": null,
      "outputs": []
    },
    {
      "cell_type": "code",
      "metadata": {
        "id": "FmcH94TPbjTc"
      },
      "source": [
        "show_generated(combined_generator)"
      ],
      "execution_count": null,
      "outputs": []
    },
    {
      "cell_type": "code",
      "metadata": {
        "id": "bKUHxOrAAKI5"
      },
      "source": [
        "for _ in range(10):\n",
        "    im_l1, im_l2 = encoder(x_test[5:6]), encoder(x_test[9:10])\n",
        "    z1, z2 = get_noise(1), get_noise(1)\n",
        "    z_l1, z_l2 = combined_generator(z1), combined_generator(z2)\n",
        "\n",
        "    AE = []\n",
        "    gen = []\n",
        "    for alpha in np.arange(0., 1.1, 0.1):\n",
        "        # AE latent space\n",
        "        real_interpolation = decoder.predict((alpha*im_l1) + ((1-alpha)*im_l2))\n",
        "        AE.append(real_interpolation)\n",
        "        # generator latent space\n",
        "        fake_interpolation = decoder.predict((alpha*z_l1) + ((1-alpha)*z_l2))\n",
        "        gen.append(fake_interpolation)\n",
        "\n",
        "\n",
        "    n = 10\n",
        "    plt.figure(figsize=(20, 4))\n",
        "    for i in range(1, n + 1):\n",
        "        # Display original\n",
        "        ax = plt.subplot(2, n, i)\n",
        "        plt.imshow(AE[i].reshape(32, 32))\n",
        "        plt.gray()\n",
        "        ax.get_xaxis().set_visible(False)\n",
        "        ax.get_yaxis().set_visible(False)\n",
        "\n",
        "        # Display reconstruction\n",
        "        ax = plt.subplot(2, n, i + n)\n",
        "        plt.imshow(gen[i].reshape(32, 32))\n",
        "        plt.gray()\n",
        "        ax.get_xaxis().set_visible(False)\n",
        "        ax.get_yaxis().set_visible(False)\n",
        "    plt.show()"
      ],
      "execution_count": null,
      "outputs": []
    },
    {
      "cell_type": "markdown",
      "metadata": {
        "id": "GJomCf9_s4pJ"
      },
      "source": [
        "# Digit Mapper - conditional GAN"
      ]
    },
    {
      "cell_type": "code",
      "metadata": {
        "id": "jqNgsL9QAWmt"
      },
      "source": [
        "def cond_gen():\n",
        "    noise_input = layers.Input(shape= (32,))\n",
        "    digit_oh = layers.Input(shape=(10,))\n",
        "    concat = layers.Concatenate()([digit_oh, noise_input])\n",
        "    x = layers.Dense(512, 'relu')(concat)\n",
        "    x = layers.BatchNormalization()(x)\n",
        "    \n",
        "    x = layers.Dense(256, 'relu')(x)\n",
        "    x = layers.BatchNormalization()(x)\n",
        "    \n",
        "    x = layers.Dense(128, 'relu')(x)\n",
        "    x = layers.BatchNormalization()(x)\n",
        "    out = layers.Dense(latent_dim)(x)\n",
        "    return keras.Model([digit_oh, noise_input], out)\n",
        "\n",
        "def cond_disc():\n",
        "    latent_input = layers.Input(shape=(latent_dim,))\n",
        "    digit_oh = layers.Input(shape=(10,))\n",
        "    concat = layers.Concatenate()([digit_oh, latent_input])\n",
        "    x = layers.Dense(256)(concat)\n",
        "    x = layers.LeakyReLU(0.2)(x)\n",
        "    \n",
        "    x = layers.Dense(128)(x)\n",
        "    x = layers.LeakyReLU(0.2)(x)\n",
        "    \n",
        "    out = layers.Dense(1)(x)\n",
        "    return keras.Model([digit_oh, latent_input], out)"
      ],
      "execution_count": null,
      "outputs": []
    },
    {
      "cell_type": "code",
      "metadata": {
        "id": "MyT9TbutwUkt"
      },
      "source": [
        "gen_optimizer = keras.optimizers.Adam()\n",
        "disc_optimizer = keras.optimizers.Adam()\n",
        "\n",
        "encoder.trainable = False\n",
        "\n",
        "\n",
        "def get_noise(batch_size):\n",
        "    return np.random.randn(batch_size, 32)\n",
        "\n",
        "@tf.function\n",
        "def train_step_discriminator(discriminator, generator, images_batch, labels_batch):\n",
        "    # training step for disc and than gen to avoid saturation\n",
        "    with tf.device('/device:GPU:0'):\n",
        "        with tf.GradientTape() as disc_tape:\n",
        "            z = get_noise(images_batch.shape[0])\n",
        "            gz = generator([labels_batch, z])\n",
        "            d_pred_real = discriminator([labels_batch, encoder(images_batch)])\n",
        "            d_pred_fake = discriminator([labels_batch, gz])\n",
        "\n",
        "            disc_loss = discriminator_loss(d_pred_fake, d_pred_real)\n",
        "            disc_gradients = disc_tape.gradient(disc_loss, discriminator.trainable_variables)\n",
        "            disc_optimizer.apply_gradients(zip(disc_gradients, discriminator.trainable_variables))\n",
        "        \n",
        "        return disc_loss\n",
        "\n",
        "@tf.function\n",
        "def train_step_generator(discriminator, generator, images_batch, labels_batch):\n",
        "    with tf.device('/device:GPU:0'):\n",
        "        with tf.GradientTape() as gen_tape:\n",
        "            z = get_noise(images_batch.shape[0])\n",
        "            \n",
        "            gz = generator([labels_batch, z])\n",
        "            d_pred_fake = discriminator([labels_batch, gz])\n",
        "            \n",
        "            gen_loss = generator_loss(d_pred_fake)\n",
        "            gen_gradients = gen_tape.gradient(gen_loss, generator.trainable_variables)\n",
        "            gen_optimizer.apply_gradients(zip(gen_gradients, generator.trainable_variables))\n",
        "\n",
        "        return gen_loss\n",
        "\n",
        "        \n",
        "@tf.function\n",
        "def train_step_simoultanous(discriminator, generator, images_batch, labels_batch):\n",
        "    # training step for disc and than gen to avoid saturation\n",
        "    with tf.device('/device:GPU:0'):\n",
        "        with tf.GradientTape() as gen_tape, tf.GradientTape() as disc_tape:\n",
        "  \n",
        "            z = get_noise(images_batch.shape[0])\n",
        "            gz = generator([labels_batch, z])\n",
        "            d_pred_real = discriminator([labels_batch, encoder(images_batch)])\n",
        "            d_pred_fake = discriminator([labels_batch, gz])\n",
        "            \n",
        "\n",
        "            disc_loss = discriminator_loss(d_pred_fake, d_pred_real)\n",
        "            disc_gradients = disc_tape.gradient(disc_loss, discriminator.trainable_variables)\n",
        "            disc_optimizer.apply_gradients(zip(disc_gradients, discriminator.trainable_variables))\n",
        "\n",
        "\n",
        "            gen_loss = generator_loss(d_pred_fake)\n",
        "            gen_gradients = gen_tape.gradient(gen_loss, generator.trainable_variables)\n",
        "            gen_optimizer.apply_gradients(zip(gen_gradients, generator.trainable_variables))\n",
        "        \n",
        "        return disc_loss, gen_loss\n",
        "\n",
        "\n",
        "def train_gan_combined(batch_size, epochs):\n",
        "    train_set = tf.data.Dataset.from_tensor_slices((x_train, y_train)).batch(batch_size)\n",
        "    discriminator = cond_disc()\n",
        "    generator = cond_gen()\n",
        "    history = {\"discriminator_loss\": [], \"generator_loss\": []}\n",
        "    \n",
        "    for epoch in range(epochs):\n",
        "        print(f\"Epoch {epoch}/{epochs}: \")\n",
        "        progbar = tf.keras.utils.Progbar(len(train_set))\n",
        "        disc_loss = []\n",
        "        gen_loss = []\n",
        "        \n",
        "        if epoch < 50: # stepwise (or simultanously)\n",
        "            for n, (img_batch, label_batch) in enumerate(train_set):\n",
        "              progbar.update(n+1)\n",
        "              dloss, gloss = train_step_simoultanous(discriminator, generator, img_batch, label_batch)\n",
        "              disc_loss.append(dloss)\n",
        "              gen_loss.append(gloss)\n",
        "        \n",
        "        else: # optimize D, then optimize G\n",
        "            for n, (img_batch, label_batch) in enumerate(train_set):\n",
        "                progbar.update(n+1)\n",
        "                dloss = train_step_discriminator(discriminator, generator, img_batch, label_batch)\n",
        "                disc_loss.append(dloss)\n",
        "            \n",
        "            for n, (img_batch, label_batch) in enumerate(train_set):\n",
        "                progbar.update(n+1)\n",
        "                gloss = train_step_generator(discriminator, generator, img_batch, label_batch)\n",
        "                gen_loss.append(gloss)\n",
        "\n",
        "        epoch_disc_loss = np.array(disc_loss).mean()\n",
        "        epoch_gen_loss = np.array(gen_loss).mean()\n",
        "        history[\"discriminator_loss\"].append(epoch_disc_loss)\n",
        "        history[\"generator_loss\"].append(epoch_gen_loss)\n",
        "        print(f\"disc_loss: {epoch_disc_loss}, gen_loss: {epoch_gen_loss}. \")\n",
        "    \n",
        "    plt.plot(np.arange(1, epochs+1), history[\"discriminator_loss\"], label=\"Discriminator_Loss\")\n",
        "    plt.plot(np.arange(1, epochs+1), history[\"generator_loss\"], label=\"Generator_Loss\")\n",
        "    plt.legend()\n",
        "    plt.show()\n",
        "    return history, generator  "
      ],
      "execution_count": null,
      "outputs": []
    },
    {
      "cell_type": "code",
      "metadata": {
        "colab": {
          "background_save": true,
          "base_uri": "https://localhost:8080/"
        },
        "id": "nsb6aqufwUnL",
        "outputId": "a3a4e2b9-485b-4d9e-bebe-c8c90bb2311e"
      },
      "source": [
        "hist, cond_gan = train_gan_combined(128, 100)"
      ],
      "execution_count": null,
      "outputs": [
        {
          "output_type": "stream",
          "text": [
            "Epoch 0/100: \n",
            "469/469 [==============================] - 3s 6ms/step\n",
            "disc_loss: 2.3614983558654785, gen_loss: 1.524898648262024. \n",
            "Epoch 1/100: \n",
            "469/469 [==============================] - 2s 4ms/step\n",
            "disc_loss: 1.3261057138442993, gen_loss: 0.9857000112533569. \n",
            "Epoch 2/100: \n",
            "469/469 [==============================] - 2s 4ms/step\n",
            "disc_loss: 0.9788789749145508, gen_loss: 1.3896172046661377. \n",
            "Epoch 3/100: \n",
            "469/469 [==============================] - 2s 4ms/step\n",
            "disc_loss: 2.3511292934417725, gen_loss: 4.034578800201416. \n",
            "Epoch 4/100: \n",
            "469/469 [==============================] - 2s 4ms/step\n",
            "disc_loss: 1.0958502292633057, gen_loss: 1.3801370859146118. \n",
            "Epoch 5/100: \n",
            "469/469 [==============================] - 2s 4ms/step\n",
            "disc_loss: 0.9513370990753174, gen_loss: 1.4758440256118774. \n",
            "Epoch 6/100: \n",
            "469/469 [==============================] - 2s 4ms/step\n",
            "disc_loss: 1.1578083038330078, gen_loss: 1.4803022146224976. \n",
            "Epoch 7/100: \n",
            "469/469 [==============================] - 2s 4ms/step\n",
            "disc_loss: 1.181396484375, gen_loss: 1.8238890171051025. \n",
            "Epoch 8/100: \n",
            "469/469 [==============================] - 2s 4ms/step\n",
            "disc_loss: 1.0731315612792969, gen_loss: 1.5179643630981445. \n",
            "Epoch 9/100: \n",
            "469/469 [==============================] - 2s 4ms/step\n",
            "disc_loss: 0.8142173290252686, gen_loss: 1.9824672937393188. \n",
            "Epoch 10/100: \n",
            "469/469 [==============================] - 2s 4ms/step\n",
            "disc_loss: 1.0376737117767334, gen_loss: 1.7196872234344482. \n",
            "Epoch 11/100: \n",
            "469/469 [==============================] - 2s 4ms/step\n",
            "disc_loss: 0.8724527955055237, gen_loss: 1.9271104335784912. \n",
            "Epoch 12/100: \n",
            "469/469 [==============================] - 2s 4ms/step\n",
            "disc_loss: 1.059849739074707, gen_loss: 2.0790634155273438. \n",
            "Epoch 13/100: \n",
            "469/469 [==============================] - 2s 4ms/step\n",
            "disc_loss: 1.0940682888031006, gen_loss: 1.8082653284072876. \n",
            "Epoch 14/100: \n",
            "469/469 [==============================] - 2s 4ms/step\n",
            "disc_loss: 0.9955074787139893, gen_loss: 2.0522632598876953. \n",
            "Epoch 15/100: \n",
            "469/469 [==============================] - 2s 4ms/step\n",
            "disc_loss: 0.9787061214447021, gen_loss: 2.1518518924713135. \n",
            "Epoch 16/100: \n",
            "469/469 [==============================] - 2s 4ms/step\n",
            "disc_loss: 1.048656940460205, gen_loss: 2.3647823333740234. \n",
            "Epoch 17/100: \n",
            "469/469 [==============================] - 2s 4ms/step\n",
            "disc_loss: 0.8490703105926514, gen_loss: 2.6154305934906006. \n",
            "Epoch 18/100: \n",
            "469/469 [==============================] - 2s 4ms/step\n",
            "disc_loss: 0.9195573925971985, gen_loss: 2.3120431900024414. \n",
            "Epoch 19/100: \n",
            "469/469 [==============================] - 2s 4ms/step\n",
            "disc_loss: 0.5942131280899048, gen_loss: 2.7776288986206055. \n",
            "Epoch 20/100: \n",
            "469/469 [==============================] - 2s 4ms/step\n",
            "disc_loss: 1.1132354736328125, gen_loss: 2.36393141746521. \n",
            "Epoch 21/100: \n",
            "469/469 [==============================] - 2s 4ms/step\n",
            "disc_loss: 1.0060253143310547, gen_loss: 2.4040844440460205. \n",
            "Epoch 22/100: \n",
            "469/469 [==============================] - 2s 4ms/step\n",
            "disc_loss: 0.4829699993133545, gen_loss: 3.239163875579834. \n",
            "Epoch 23/100: \n",
            "469/469 [==============================] - 2s 4ms/step\n",
            "disc_loss: 0.7455148696899414, gen_loss: 3.4311602115631104. \n",
            "Epoch 24/100: \n",
            "469/469 [==============================] - 2s 4ms/step\n",
            "disc_loss: 0.48875850439071655, gen_loss: 3.202362298965454. \n",
            "Epoch 25/100: \n",
            "469/469 [==============================] - 2s 4ms/step\n",
            "disc_loss: 0.9823297262191772, gen_loss: 3.8326897621154785. \n",
            "Epoch 26/100: \n",
            "469/469 [==============================] - 2s 4ms/step\n",
            "disc_loss: 0.6564105749130249, gen_loss: 2.9397170543670654. \n",
            "Epoch 27/100: \n",
            "469/469 [==============================] - 2s 4ms/step\n",
            "disc_loss: 0.6380621194839478, gen_loss: 2.793860912322998. \n",
            "Epoch 28/100: \n",
            "469/469 [==============================] - 2s 4ms/step\n",
            "disc_loss: 1.035233974456787, gen_loss: 3.457601308822632. \n",
            "Epoch 29/100: \n",
            "469/469 [==============================] - 2s 4ms/step\n",
            "disc_loss: 0.9673292636871338, gen_loss: 3.209782838821411. \n",
            "Epoch 30/100: \n",
            "469/469 [==============================] - 2s 4ms/step\n",
            "disc_loss: 0.5777279734611511, gen_loss: 3.019066333770752. \n",
            "Epoch 31/100: \n",
            "469/469 [==============================] - 2s 4ms/step\n",
            "disc_loss: 0.5746522545814514, gen_loss: 3.4660494327545166. \n",
            "Epoch 32/100: \n",
            "469/469 [==============================] - 2s 4ms/step\n",
            "disc_loss: 0.44457682967185974, gen_loss: 3.364849090576172. \n",
            "Epoch 33/100: \n",
            "469/469 [==============================] - 2s 4ms/step\n",
            "disc_loss: 0.68839430809021, gen_loss: 3.4583513736724854. \n",
            "Epoch 34/100: \n",
            "469/469 [==============================] - 2s 4ms/step\n",
            "disc_loss: 0.4098476767539978, gen_loss: 3.798365831375122. \n",
            "Epoch 35/100: \n",
            "469/469 [==============================] - 2s 4ms/step\n",
            "disc_loss: 0.9829939007759094, gen_loss: 3.200836420059204. \n",
            "Epoch 36/100: \n",
            "469/469 [==============================] - 2s 4ms/step\n",
            "disc_loss: 0.5598174333572388, gen_loss: 3.4787862300872803. \n",
            "Epoch 37/100: \n",
            "469/469 [==============================] - 2s 4ms/step\n",
            "disc_loss: 0.5246468186378479, gen_loss: 3.9009695053100586. \n",
            "Epoch 38/100: \n",
            "469/469 [==============================] - 2s 4ms/step\n",
            "disc_loss: 0.07709453254938126, gen_loss: 4.434185981750488. \n",
            "Epoch 39/100: \n",
            "469/469 [==============================] - 2s 4ms/step\n",
            "disc_loss: 0.06522031873464584, gen_loss: 5.901042461395264. \n",
            "Epoch 40/100: \n",
            "469/469 [==============================] - 2s 4ms/step\n",
            "disc_loss: 0.063571497797966, gen_loss: 5.936220169067383. \n",
            "Epoch 41/100: \n",
            "469/469 [==============================] - 2s 4ms/step\n",
            "disc_loss: 0.036505937576293945, gen_loss: 6.423137187957764. \n",
            "Epoch 42/100: \n",
            "469/469 [==============================] - 2s 4ms/step\n",
            "disc_loss: 0.035757750272750854, gen_loss: 6.789229393005371. \n",
            "Epoch 43/100: \n",
            "469/469 [==============================] - 2s 4ms/step\n",
            "disc_loss: 0.024890216067433357, gen_loss: 6.897334098815918. \n",
            "Epoch 44/100: \n",
            "469/469 [==============================] - 2s 4ms/step\n",
            "disc_loss: 0.024844065308570862, gen_loss: 7.877498149871826. \n",
            "Epoch 45/100: \n",
            "469/469 [==============================] - 2s 4ms/step\n",
            "disc_loss: 0.01713511347770691, gen_loss: 9.825054168701172. \n",
            "Epoch 46/100: \n",
            "469/469 [==============================] - 2s 4ms/step\n",
            "disc_loss: 0.018063189461827278, gen_loss: 10.576765060424805. \n",
            "Epoch 47/100: \n",
            "469/469 [==============================] - 2s 4ms/step\n",
            "disc_loss: 0.01181776262819767, gen_loss: 9.668466567993164. \n",
            "Epoch 48/100: \n",
            "469/469 [==============================] - 2s 4ms/step\n",
            "disc_loss: 0.013006194494664669, gen_loss: 9.557546615600586. \n",
            "Epoch 49/100: \n",
            "469/469 [==============================] - 2s 4ms/step\n",
            "disc_loss: 0.013476758264005184, gen_loss: 11.12150764465332. \n",
            "Epoch 50/100: \n",
            "469/469 [==============================] - 2s 4ms/step\n",
            "469/469 [==============================] - 4s 3ms/step\n",
            "disc_loss: 0.0006793257780373096, gen_loss: 0.33841925859451294. \n",
            "Epoch 51/100: \n",
            "469/469 [==============================] - 2s 3ms/step\n",
            "469/469 [==============================] - 3s 2ms/step\n",
            "disc_loss: 0.12967106699943542, gen_loss: 0.7169070243835449. \n",
            "Epoch 52/100: \n",
            "469/469 [==============================] - 2s 3ms/step\n",
            "469/469 [==============================] - 3s 2ms/step\n",
            "disc_loss: 32.92869186401367, gen_loss: 11.517942428588867. \n",
            "Epoch 53/100: \n",
            "469/469 [==============================] - 1s 3ms/step\n",
            "469/469 [==============================] - 3s 2ms/step\n",
            "disc_loss: 3.836890459060669, gen_loss: 3.3003015518188477. \n",
            "Epoch 54/100: \n",
            "469/469 [==============================] - 2s 3ms/step\n",
            "469/469 [==============================] - 3s 2ms/step\n",
            "disc_loss: 2.616328239440918, gen_loss: 6.81705904006958. \n",
            "Epoch 55/100: \n",
            "469/469 [==============================] - 2s 3ms/step\n",
            "469/469 [==============================] - 3s 3ms/step\n",
            "disc_loss: 0.9499573111534119, gen_loss: 0.7993505001068115. \n",
            "Epoch 56/100: \n",
            "469/469 [==============================] - 2s 3ms/step\n",
            "469/469 [==============================] - 3s 2ms/step\n",
            "disc_loss: 2.889017343521118, gen_loss: 6.540210723876953. \n",
            "Epoch 57/100: \n",
            "469/469 [==============================] - 2s 3ms/step\n",
            "469/469 [==============================] - 3s 2ms/step\n",
            "disc_loss: 1.035600185394287, gen_loss: 0.4267106354236603. \n",
            "Epoch 58/100: \n",
            "469/469 [==============================] - 1s 3ms/step\n",
            "469/469 [==============================] - 3s 2ms/step\n",
            "disc_loss: 0.6255010366439819, gen_loss: 1.9158896207809448. \n",
            "Epoch 59/100: \n",
            "469/469 [==============================] - 1s 3ms/step\n",
            "469/469 [==============================] - 3s 2ms/step\n",
            "disc_loss: 0.4307281970977783, gen_loss: 0.4169226586818695. \n",
            "Epoch 60/100: \n",
            "469/469 [==============================] - 2s 3ms/step\n",
            "469/469 [==============================] - 3s 2ms/step\n",
            "disc_loss: 0.1958746314048767, gen_loss: 0.33463147282600403. \n",
            "Epoch 61/100: \n",
            "469/469 [==============================] - 2s 3ms/step\n",
            "469/469 [==============================] - 3s 2ms/step\n",
            "disc_loss: 0.09199120849370956, gen_loss: 0.2132609784603119. \n",
            "Epoch 62/100: \n",
            "469/469 [==============================] - 2s 3ms/step\n",
            "469/469 [==============================] - 3s 2ms/step\n",
            "disc_loss: 0.16121111810207367, gen_loss: 0.4095594584941864. \n",
            "Epoch 63/100: \n",
            "469/469 [==============================] - 2s 3ms/step\n",
            "469/469 [==============================] - 3s 2ms/step\n",
            "disc_loss: 0.10173570364713669, gen_loss: 0.16356781125068665. \n",
            "Epoch 64/100: \n",
            "469/469 [==============================] - 2s 3ms/step\n",
            "469/469 [==============================] - 3s 2ms/step\n",
            "disc_loss: 0.12892140448093414, gen_loss: 0.2786742150783539. \n",
            "Epoch 65/100: \n",
            "469/469 [==============================] - 2s 3ms/step\n",
            "469/469 [==============================] - 3s 2ms/step\n",
            "disc_loss: 0.10585721582174301, gen_loss: 0.26398321986198425. \n",
            "Epoch 66/100: \n",
            "469/469 [==============================] - 1s 3ms/step\n",
            "469/469 [==============================] - 3s 2ms/step\n",
            "disc_loss: 0.18165643513202667, gen_loss: 0.19248248636722565. \n",
            "Epoch 67/100: \n",
            "469/469 [==============================] - 2s 3ms/step\n",
            "469/469 [==============================] - 3s 2ms/step\n",
            "disc_loss: 0.18212369084358215, gen_loss: 0.07091920077800751. \n",
            "Epoch 68/100: \n",
            "469/469 [==============================] - 2s 3ms/step\n",
            "469/469 [==============================] - 3s 2ms/step\n",
            "disc_loss: 0.12832218408584595, gen_loss: 0.24669170379638672. \n",
            "Epoch 69/100: \n",
            "469/469 [==============================] - 1s 3ms/step\n",
            "469/469 [==============================] - 3s 2ms/step\n",
            "disc_loss: 0.11028823256492615, gen_loss: 0.28124600648880005. \n",
            "Epoch 70/100: \n",
            "469/469 [==============================] - 2s 3ms/step\n",
            "469/469 [==============================] - 3s 2ms/step\n",
            "disc_loss: 0.26448553800582886, gen_loss: 0.639696478843689. \n",
            "Epoch 71/100: \n",
            "469/469 [==============================] - 1s 3ms/step\n",
            "469/469 [==============================] - 3s 2ms/step\n",
            "disc_loss: 0.19640351831912994, gen_loss: 0.08419477194547653. \n",
            "Epoch 72/100: \n",
            "469/469 [==============================] - 2s 3ms/step\n",
            "469/469 [==============================] - 3s 2ms/step\n",
            "disc_loss: 0.0758473202586174, gen_loss: 0.13481540977954865. \n",
            "Epoch 73/100: \n",
            "469/469 [==============================] - 2s 3ms/step\n",
            "469/469 [==============================] - 3s 3ms/step\n",
            "disc_loss: 0.18904097378253937, gen_loss: 0.3807089924812317. \n",
            "Epoch 74/100: \n",
            "469/469 [==============================] - 2s 3ms/step\n",
            "469/469 [==============================] - 3s 2ms/step\n",
            "disc_loss: 0.11923660337924957, gen_loss: 4.109874248504639. \n",
            "Epoch 75/100: \n",
            "469/469 [==============================] - 2s 3ms/step\n",
            "469/469 [==============================] - 3s 2ms/step\n",
            "disc_loss: 0.14383915066719055, gen_loss: 0.36710503697395325. \n",
            "Epoch 76/100: \n",
            "469/469 [==============================] - 2s 3ms/step\n",
            "469/469 [==============================] - 3s 2ms/step\n",
            "disc_loss: 0.13696272671222687, gen_loss: 0.11028161644935608. \n",
            "Epoch 77/100: \n",
            "469/469 [==============================] - 2s 3ms/step\n",
            "469/469 [==============================] - 3s 2ms/step\n",
            "disc_loss: 0.13801990449428558, gen_loss: 1.1415557861328125. \n",
            "Epoch 78/100: \n",
            "469/469 [==============================] - 1s 3ms/step\n",
            "469/469 [==============================] - 3s 2ms/step\n",
            "disc_loss: 0.08806125819683075, gen_loss: 0.6256906390190125. \n",
            "Epoch 79/100: \n",
            "469/469 [==============================] - 2s 3ms/step\n",
            "469/469 [==============================] - 3s 2ms/step\n",
            "disc_loss: 0.06069401651620865, gen_loss: 0.43417567014694214. \n",
            "Epoch 80/100: \n",
            "469/469 [==============================] - 2s 3ms/step\n",
            "469/469 [==============================] - 3s 2ms/step\n",
            "disc_loss: 0.10399992763996124, gen_loss: 0.14943094551563263. \n",
            "Epoch 81/100: \n",
            "469/469 [==============================] - 2s 3ms/step\n",
            "469/469 [==============================] - 3s 2ms/step\n",
            "disc_loss: 0.08171066641807556, gen_loss: 0.1688321828842163. \n",
            "Epoch 82/100: \n",
            "469/469 [==============================] - 2s 3ms/step\n",
            "469/469 [==============================] - 3s 2ms/step\n",
            "disc_loss: 0.04962807148694992, gen_loss: 0.1615513414144516. \n",
            "Epoch 83/100: \n",
            "469/469 [==============================] - 2s 3ms/step\n",
            "469/469 [==============================] - 3s 2ms/step\n",
            "disc_loss: 0.08344490081071854, gen_loss: 0.17916883528232574. \n",
            "Epoch 84/100: \n",
            "469/469 [==============================] - 1s 3ms/step\n",
            "469/469 [==============================] - 3s 2ms/step\n",
            "disc_loss: 0.07495993375778198, gen_loss: 0.2439761459827423. \n",
            "Epoch 85/100: \n",
            "469/469 [==============================] - 2s 3ms/step\n",
            "469/469 [==============================] - 3s 3ms/step\n",
            "disc_loss: 0.09141876548528671, gen_loss: 0.5116533637046814. \n",
            "Epoch 86/100: \n",
            "469/469 [==============================] - 2s 3ms/step\n",
            "469/469 [==============================] - 3s 2ms/step\n",
            "disc_loss: 0.22008836269378662, gen_loss: 0.4395574629306793. \n",
            "Epoch 87/100: \n",
            "469/469 [==============================] - 1s 3ms/step\n",
            "469/469 [==============================] - 3s 2ms/step\n",
            "disc_loss: 0.15577098727226257, gen_loss: 0.27905014157295227. \n",
            "Epoch 88/100: \n",
            "469/469 [==============================] - 2s 3ms/step\n",
            "469/469 [==============================] - 3s 2ms/step\n",
            "disc_loss: 0.10134552419185638, gen_loss: 0.15784087777137756. \n",
            "Epoch 89/100: \n",
            "469/469 [==============================] - 2s 3ms/step\n",
            "469/469 [==============================] - 3s 2ms/step\n",
            "disc_loss: 0.08381374180316925, gen_loss: 0.7330403327941895. \n",
            "Epoch 90/100: \n",
            "469/469 [==============================] - 2s 3ms/step\n",
            "469/469 [==============================] - 3s 2ms/step\n",
            "disc_loss: 0.17915861308574677, gen_loss: 0.1954425424337387. \n",
            "Epoch 91/100: \n",
            "469/469 [==============================] - 2s 3ms/step\n",
            "469/469 [==============================] - 3s 2ms/step\n",
            "disc_loss: 0.44656845927238464, gen_loss: 0.14480070769786835. \n",
            "Epoch 92/100: \n",
            "469/469 [==============================] - 2s 3ms/step\n",
            "469/469 [==============================] - 3s 2ms/step\n",
            "disc_loss: 0.23241086304187775, gen_loss: 0.15683308243751526. \n",
            "Epoch 93/100: \n",
            "469/469 [==============================] - 2s 3ms/step\n",
            "469/469 [==============================] - 3s 2ms/step\n",
            "disc_loss: 0.4607269763946533, gen_loss: 0.21920782327651978. \n",
            "Epoch 94/100: \n",
            "469/469 [==============================] - 2s 3ms/step\n",
            "469/469 [==============================] - 3s 2ms/step\n",
            "disc_loss: 0.1589595079421997, gen_loss: 0.16624873876571655. \n",
            "Epoch 95/100: \n",
            "469/469 [==============================] - 2s 3ms/step\n",
            "469/469 [==============================] - 3s 2ms/step\n",
            "disc_loss: 0.07947802543640137, gen_loss: 1.8632454872131348. \n",
            "Epoch 96/100: \n",
            "469/469 [==============================] - 2s 3ms/step\n",
            "469/469 [==============================] - 3s 2ms/step\n",
            "disc_loss: 0.13710236549377441, gen_loss: 0.24049505591392517. \n",
            "Epoch 97/100: \n",
            "469/469 [==============================] - 2s 3ms/step\n",
            "469/469 [==============================] - 3s 2ms/step\n",
            "disc_loss: 0.09441527724266052, gen_loss: 0.21912093460559845. \n",
            "Epoch 98/100: \n",
            "469/469 [==============================] - 1s 3ms/step\n",
            "469/469 [==============================] - 3s 2ms/step\n",
            "disc_loss: 0.15495151281356812, gen_loss: 0.24321095645427704. \n",
            "Epoch 99/100: \n",
            "469/469 [==============================] - 2s 3ms/step\n",
            "469/469 [==============================] - 3s 2ms/step\n",
            "disc_loss: 0.14720743894577026, gen_loss: 0.12076073884963989. \n"
          ],
          "name": "stdout"
        },
        {
          "output_type": "display_data",
          "data": {
            "image/png": "[encoded data removed]",
            "text/plain": [
              "<Figure size 432x288 with 1 Axes>"
            ]
          },
          "metadata": {
            "tags": []
          }
        }
      ]
    },
    {
      "cell_type": "code",
      "metadata": {
        "id": "vFgYFyq0X8qX"
      },
      "source": [
        "tf.keras.utils.plot_model(cond_gen(), show_shapes=True)"
      ],
      "execution_count": null,
      "outputs": []
    },
    {
      "cell_type": "code",
      "metadata": {
        "id": "Huq8gdXkaHYK"
      },
      "source": [
        "tf.keras.utils.plot_model(cond_disc(), show_shapes=True)"
      ],
      "execution_count": null,
      "outputs": []
    },
    {
      "cell_type": "code",
      "metadata": {
        "id": "DnGU2myGwUpe"
      },
      "source": [
        "for d in range(10):    \n",
        "    n = 10\n",
        "    plt.figure(figsize=(20, 4))\n",
        "    batch = keras.utils.to_categorical(np.arange(0,10).reshape(-1,1))\n",
        "    for i in range(1, n + 1):\n",
        "        # Display reconstruction\n",
        "        ax = plt.subplot(2, n, i + n)\n",
        "        im_gen = cond_gan.predict([batch[i-1:i], get_noise(1)])\n",
        "        # im_gen = cond_gan.predict([batch, get_noise(1)])\n",
        "        image = decoder.predict(im_gen)\n",
        "        plt.imshow(image.reshape(32, 32), cmap='gray')\n",
        "        ax.get_xaxis().set_visible(False)\n",
        "        ax.get_yaxis().set_visible(False)\n",
        "        plt.title(i-1)\n",
        "    plt.show()"
      ],
      "execution_count": null,
      "outputs": []
    },
    {
      "cell_type": "code",
      "metadata": {
        "id": "bOqk0V9SJp9r"
      },
      "source": [
        ""
      ],
      "execution_count": null,
      "outputs": []
    }
  ]
}